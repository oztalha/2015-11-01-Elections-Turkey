{
 "cells": [
  {
   "cell_type": "markdown",
   "metadata": {},
   "source": [
    "by [@tozCSS](https://twitter.com/tozCSS)\n",
    "\n",
    "This notebook contains some maps and plots regarding the last two general election results in Turkey (held in Jun 7, 2015 and Nov 1, 2015).\n",
    "\n",
    "## Data Source\n",
    "Both Jun 7 and Nov 1 election results are scraped from the Nov 1, 2015 [election results page]('http://www.yenisafak.com/secim-2015-kasim/secim-sonuclari') of the Yenisafak daily. You can find them as CSV files in the data folder.\n",
    "\n",
    "## Election Results Maps\n",
    "I created two maps for the last two general election results of Turkey. If you click on any of the cities in those maps (below),\n",
    "vote shares of the four parties are shown for that particular election.\n",
    "\n",
    "The colors in these maps represent the vote share of AKP in those cities. Since one of the more interesting questions regarding the Nov 1, 2015 election is in which cities AKP increased its votes, I created density maps to facilitate us seeing them.\n",
    "\n",
    "## Vote Share Scatter Plots of Each Party per City for the Last Two Elections\n",
    "For all of the parties, their vote shares in the last two elections is compared in a scatter plot where the dots represent the cities and their colors represent the geographic region they belong to. One interesting pattern for example is that unlike other parties, CHP increased its vote share in some cities and lost some in others. On the other hand we see that AKP increased its vote share in every city, whereas MHP and HDP lost their shares almost in every single city."
   ]
  },
  {
   "cell_type": "code",
   "execution_count": 1,
   "metadata": {
    "collapsed": true
   },
   "outputs": [],
   "source": [
    "import json\n",
    "import requests\n",
    "import pandas as pd\n",
    "from bs4 import BeautifulSoup\n",
    "import folium\n",
    "from IPython.display import HTML\n",
    "%matplotlib inline\n",
    "import matplotlib.pyplot as plt\n",
    "plt.style.use('ggplot')"
   ]
  },
  {
   "cell_type": "code",
   "execution_count": 2,
   "metadata": {
    "collapsed": true
   },
   "outputs": [],
   "source": [
    "# scrape both Nov 1st and Jun 7th election results at  city level\n",
    "resource = requests.get('http://www.yenisafak.com/secim-2015-kasim/secim-sonuclari')\n",
    "soup = BeautifulSoup(resource.content.decode('utf-8','ignore'), \"lxml\")\n",
    "# kill all script, style, sub, sup and b elements\n",
    "for script in soup([\"script\", \"style\", \"sup\", \"sub\", \"b\"]):\n",
    "    script.extract()    # rip out some visualization elements\n",
    "cities = soup.find_all(class_='data  compare')[3:] #81 city results\n",
    "nov = pd.DataFrame(columns=('city','AKP', 'CHP','MHP','HDP','others'));nov.name = 'nov'\n",
    "jun = pd.DataFrame(columns=('city','AKP', 'CHP','MHP','HDP','others'));jun.name = 'jun'\n",
    "for city in cities:\n",
    "    info = city.find_all('span')\n",
    "    nov1 = [float(info[i].text.replace(',','.')) for i in range(16,21)] #Nov 1st results\n",
    "    jun7 = [float(info[i].text.replace(',','.')) for i in range(23,28)] #Jun 7th results\n",
    "    nov.loc[len(nov)]=[info[0].text] + nov1 #add city name and insert row to the dataframe\n",
    "    jun.loc[len(jun)]=[info[0].text] + jun7 #add city name and insert row to the dataframe\n",
    "nov.to_csv('data/nov.csv',index=False,encoding='utf-8')\n",
    "jun.to_csv('data/jun.csv',index=False,encoding='utf-8')"
   ]
  },
  {
   "cell_type": "code",
   "execution_count": 3,
   "metadata": {
    "collapsed": false
   },
   "outputs": [],
   "source": [
    "def create_json(df):\n",
    "    \"\"\"create geojson files annotated with election results\"\"\"\n",
    "    f = json.load(open('turkey.geojson',encoding='utf-8'))\n",
    "    parties = ['AKP', 'CHP','MHP','HDP']\n",
    "    for ft in f['features']:\n",
    "        city = ft['properties']['name']\n",
    "        shares = str(df[df.city==city][parties].values).strip('[]').split()\n",
    "        p = '<b>'+city+'</b><br>'\n",
    "        for i in range(4):\n",
    "            p += parties[i]+': '+shares[i]+'%<br>'\n",
    "        p = p[:-4]\n",
    "        ft['properties'] = {'name':city,'popupContent':p}\n",
    "\n",
    "    with open('tr_'+df.name+'.geojson', 'w',encoding='utf-8') as outfile:\n",
    "        json.dump(f,outfile,ensure_ascii=False)\n",
    "\n",
    "create_json(nov)\n",
    "create_json(jun)"
   ]
  },
  {
   "cell_type": "code",
   "execution_count": 4,
   "metadata": {
    "collapsed": false
   },
   "outputs": [
    {
     "data": {
      "text/html": [
       "<iframe src=akp_share_nov.html style=\"width: 100%; height: 500px; border: none\"></iframe>"
      ],
      "text/plain": [
       "<IPython.core.display.HTML object>"
      ]
     },
     "execution_count": 4,
     "metadata": {},
     "output_type": "execute_result"
    }
   ],
   "source": [
    "# AKP Vote Shares (%), Nov 1, 2015 Turkish General Elections\n",
    "mapname = 'akp_share_nov'\n",
    "tr_geo = 'tr_nov.geojson'\n",
    "tr = folium.Map(location=[39.5, 35], zoom_start=6, tiles='Mapbox Bright')\n",
    "tr.geo_json(geo_path=tr_geo, data=nov, data_out=mapname+'.json',\n",
    "                columns=['city', 'AKP'],\n",
    "                threshold_scale=[15,25,35,45,55,65],\n",
    "                key_on='feature.properties.name',\n",
    "                fill_color='YlOrRd', fill_opacity=0.7, line_opacity=0.2,\n",
    "                legend_name='AKP Vote Shares (%), Nov 1, 2015 Turkish General Elections')\n",
    "tr.create_map(path=mapname+'.html')\n",
    "HTML('<iframe src='+mapname+'.html style=\"width: 100%; height: 500px; border: none\"></iframe>')"
   ]
  },
  {
   "cell_type": "code",
   "execution_count": 5,
   "metadata": {
    "collapsed": false
   },
   "outputs": [
    {
     "data": {
      "text/html": [
       "<iframe src=akp_share_jun.html style=\"width: 100%; height: 500px; border: none\"></iframe>"
      ],
      "text/plain": [
       "<IPython.core.display.HTML object>"
      ]
     },
     "execution_count": 5,
     "metadata": {},
     "output_type": "execute_result"
    }
   ],
   "source": [
    "# AKP Vote Shares (%), Jun 7, 2015 Turkish General Elections\n",
    "mapname = 'akp_share_jun'\n",
    "tr_geo = 'tr_jun.geojson'\n",
    "tr = folium.Map(location=[39.5, 35], zoom_start=6, tiles='Mapbox Bright')\n",
    "tr.geo_json(geo_path=tr_geo, data=jun, data_out=mapname+'.json',\n",
    "                columns=['city', 'AKP'],\n",
    "                threshold_scale=[15,25,35,45,55,65],\n",
    "                key_on='feature.properties.name',\n",
    "                fill_color='YlOrRd', fill_opacity=0.7, line_opacity=0.2,\n",
    "                legend_name='AKP Vote Shares (%), Jun 7, 2015 Turkish General Elections')\n",
    "tr.create_map(path=mapname+'.html')\n",
    "HTML('<iframe src='+mapname+'.html style=\"width: 100%; height: 500px; border: none\"></iframe>')"
   ]
  },
  {
   "cell_type": "code",
   "execution_count": 6,
   "metadata": {
    "collapsed": false
   },
   "outputs": [],
   "source": [
    "#Scatter plot\n",
    "import plotly.plotly as py\n",
    "from plotly.graph_objs import *\n",
    "from palettable.colorbrewer.qualitative import Dark2_7 as colmap\n",
    "\n",
    "il = pd.read_csv('data/city_meta.csv',usecols=['il','bolge'])\n",
    "colors = dict(zip(il['bolge'].unique().tolist(),colmap.hex_colors))\n",
    "parties = ['AKP', 'CHP','MHP','HDP']\n",
    "jun['bolge'] = il['bolge']\n",
    "nov['bolge'] = il['bolge']\n",
    "\n",
    "for p in parties:\n",
    "    lim = max(nov[p].max(),jun[p].max())\n",
    "    #each region is a trace, otherwise they do not show up in the legend\n",
    "    traces = [Scatter(x=jun[jun.bolge==b][p],y=nov[nov.bolge==b][p],\n",
    "                      mode='markers', text=il[il.bolge==b]['il'], name=b,\n",
    "                      marker=Marker(color=v)) for b,v in colors.items()]\n",
    "    traces.append(Scatter(x=[0,lim],y=[0,lim],mode='lines', name='y=x',\n",
    "                        line=Line(color='grey',dash='dash')))\n",
    "    data = Data(traces)\n",
    "    layout = Layout(title=p+' Nov 1, 2015 vs Jun 7, 2015 Vote Shares',\n",
    "                    autosize=True,\n",
    "                    xaxis=XAxis(title=p+\" Jun 7, 2015 Vote Shares\",zeroline=False),\n",
    "                    yaxis=YAxis(title=p+\" Nov 1, 2015 Vote Shares\",zeroline=False),\n",
    "                    legend=Legend(x=.01,y=1))\n",
    "    fig = Figure(data=data,layout=layout)\n",
    "    url = py.plot(fig,filename= p+' Nov 1, 2015 vs Jun 7, 2015 Vote Shares')"
   ]
  },
  {
   "cell_type": "code",
   "execution_count": 7,
   "metadata": {
    "collapsed": false
   },
   "outputs": [
    {
     "data": {
      "text/html": [
       "<div><a href=\"https://plot.ly/~toz/828/\" target=\"_blank\" title=\"AKP Nov 1, 2015 vs Jun 7, 2015 Vote Shares\" style=\"display: block; text-align: center;\"><img src=\"https://plot.ly/~toz/828.png\" alt=\"AKP Nov 1, 2015 vs Jun 7, 2015 Vote Shares\" style=\"max-width: 100%;width: 600px;\"  width=\"600\" onerror=\"this.onerror=null;this.src='https://plot.ly/404.png';\" /></a><script data-plotly=\"toz:828\"  src=\"https://plot.ly/embed.js\" async></script></div>"
      ],
      "text/plain": [
       "<IPython.core.display.HTML object>"
      ]
     },
     "execution_count": 7,
     "metadata": {},
     "output_type": "execute_result"
    }
   ],
   "source": [
    "HTML(\"\"\"<div><a href=\"https://plot.ly/~toz/828/\" target=\"_blank\" title=\"AKP Nov 1, 2015 vs Jun 7, 2015 Vote Shares\" style=\"display: block; text-align: center;\"><img src=\"https://plot.ly/~toz/828.png\" alt=\"AKP Nov 1, 2015 vs Jun 7, 2015 Vote Shares\" style=\"max-width: 100%;width: 600px;\"  width=\"600\" onerror=\"this.onerror=null;this.src='https://plot.ly/404.png';\" /></a><script data-plotly=\"toz:828\"  src=\"https://plot.ly/embed.js\" async></script></div>\"\"\")"
   ]
  },
  {
   "cell_type": "code",
   "execution_count": 8,
   "metadata": {
    "collapsed": false
   },
   "outputs": [
    {
     "data": {
      "text/html": [
       "<div><a href=\"https://plot.ly/~toz/830/\" target=\"_blank\" title=\"CHP Nov 1, 2015 vs Jun 7, 2015 Vote Shares\" style=\"display: block; text-align: center;\"><img src=\"https://plot.ly/~toz/830.png\" alt=\"CHP Nov 1, 2015 vs Jun 7, 2015 Vote Shares\" style=\"max-width: 100%;width: 600px;\"  width=\"600\" onerror=\"this.onerror=null;this.src='https://plot.ly/404.png';\" /></a><script data-plotly=\"toz:830\"  src=\"https://plot.ly/embed.js\" async></script></div>"
      ],
      "text/plain": [
       "<IPython.core.display.HTML object>"
      ]
     },
     "execution_count": 8,
     "metadata": {},
     "output_type": "execute_result"
    }
   ],
   "source": [
    "HTML(\"\"\"<div><a href=\"https://plot.ly/~toz/830/\" target=\"_blank\" title=\"CHP Nov 1, 2015 vs Jun 7, 2015 Vote Shares\" style=\"display: block; text-align: center;\"><img src=\"https://plot.ly/~toz/830.png\" alt=\"CHP Nov 1, 2015 vs Jun 7, 2015 Vote Shares\" style=\"max-width: 100%;width: 600px;\"  width=\"600\" onerror=\"this.onerror=null;this.src='https://plot.ly/404.png';\" /></a><script data-plotly=\"toz:830\"  src=\"https://plot.ly/embed.js\" async></script></div>\"\"\")"
   ]
  },
  {
   "cell_type": "code",
   "execution_count": 9,
   "metadata": {
    "collapsed": false
   },
   "outputs": [
    {
     "data": {
      "text/html": [
       "<div><a href=\"https://plot.ly/~toz/832/\" target=\"_blank\" title=\"MHP Nov 1, 2015 vs Jun 7, 2015 Vote Shares\" style=\"display: block; text-align: center;\"><img src=\"https://plot.ly/~toz/832.png\" alt=\"MHP Nov 1, 2015 vs Jun 7, 2015 Vote Shares\" style=\"max-width: 100%;width: 600px;\"  width=\"600\" onerror=\"this.onerror=null;this.src='https://plot.ly/404.png';\" /></a><script data-plotly=\"toz:832\"  src=\"https://plot.ly/embed.js\" async></script></div>"
      ],
      "text/plain": [
       "<IPython.core.display.HTML object>"
      ]
     },
     "execution_count": 9,
     "metadata": {},
     "output_type": "execute_result"
    }
   ],
   "source": [
    "HTML(\"\"\"<div><a href=\"https://plot.ly/~toz/832/\" target=\"_blank\" title=\"MHP Nov 1, 2015 vs Jun 7, 2015 Vote Shares\" style=\"display: block; text-align: center;\"><img src=\"https://plot.ly/~toz/832.png\" alt=\"MHP Nov 1, 2015 vs Jun 7, 2015 Vote Shares\" style=\"max-width: 100%;width: 600px;\"  width=\"600\" onerror=\"this.onerror=null;this.src='https://plot.ly/404.png';\" /></a><script data-plotly=\"toz:832\"  src=\"https://plot.ly/embed.js\" async></script></div>\"\"\")"
   ]
  },
  {
   "cell_type": "code",
   "execution_count": 10,
   "metadata": {
    "collapsed": false
   },
   "outputs": [
    {
     "data": {
      "text/html": [
       "<div><a href=\"https://plot.ly/~toz/834/\" target=\"_blank\" title=\"HDP Nov 1, 2015 vs Jun 7, 2015 Vote Shares\" style=\"display: block; text-align: center;\"><img src=\"https://plot.ly/~toz/834.png\" alt=\"HDP Nov 1, 2015 vs Jun 7, 2015 Vote Shares\" style=\"max-width: 100%;width: 600px;\"  width=\"600\" onerror=\"this.onerror=null;this.src='https://plot.ly/404.png';\" /></a><script data-plotly=\"toz:834\"  src=\"https://plot.ly/embed.js\" async></script></div>"
      ],
      "text/plain": [
       "<IPython.core.display.HTML object>"
      ]
     },
     "execution_count": 10,
     "metadata": {},
     "output_type": "execute_result"
    }
   ],
   "source": [
    "HTML(\"\"\"<div><a href=\"https://plot.ly/~toz/834/\" target=\"_blank\" title=\"HDP Nov 1, 2015 vs Jun 7, 2015 Vote Shares\" style=\"display: block; text-align: center;\"><img src=\"https://plot.ly/~toz/834.png\" alt=\"HDP Nov 1, 2015 vs Jun 7, 2015 Vote Shares\" style=\"max-width: 100%;width: 600px;\"  width=\"600\" onerror=\"this.onerror=null;this.src='https://plot.ly/404.png';\" /></a><script data-plotly=\"toz:834\"  src=\"https://plot.ly/embed.js\" async></script></div>\"\"\")"
   ]
  }
 ],
 "metadata": {
  "kernelspec": {
   "display_name": "Python 3",
   "language": "python",
   "name": "python3"
  },
  "language_info": {
   "codemirror_mode": {
    "name": "ipython",
    "version": 3
   },
   "file_extension": ".py",
   "mimetype": "text/x-python",
   "name": "python",
   "nbconvert_exporter": "python",
   "pygments_lexer": "ipython3",
   "version": "3.4.3"
  }
 },
 "nbformat": 4,
 "nbformat_minor": 0
}
