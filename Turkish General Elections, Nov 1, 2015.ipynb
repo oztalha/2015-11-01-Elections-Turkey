{
 "cells": [
  {
   "cell_type": "markdown",
   "metadata": {},
   "source": [
    "by [@tozCSS](https://twitter.com/tozCSS)\n",
    "\n",
    "<img style=\"float: right;\" src=\"data/vtr.png\">\n",
    "This notebook contains some maps and plots regarding the last two general election results in Turkey (held in Jun 7, 2015 and Nov 1, 2015).\n",
    "\n",
    "I also estimate the vote transition rates (the image on the right) using a recursive method developed by [Andreadis](http://www.tandfonline.com/doi/abs/10.1080/17457280902799089) (An R script and the instructions are also made [available](http://www.polres.gr/en/vtr)). To get the exact transition values you can mouse-over the links in the interactive Sankey diagram at the bottom of this notebook. \n",
    "\n",
    "Finally, I respond to the fraud claims due to the high increase in the number of registered voters (and valid votes) in 5 months by looking at the correlation between the changes in party shares and the valid votes.\n",
    "\n",
    "## Data Source\n",
    "Both Jun 7 and Nov 1 election results are scraped from the Nov 1, 2015 [election results page](http://www.yenisafak.com/secim-2015-kasim/secim-sonuclari) of the Yenisafak daily. Scraped datasets are available in two files as [Nov 1,2015](data/nov.csv) and [Jun 7,2015](data/jun.csv) in csv format.\n",
    "\n",
    "[UPDATE] : Town level data added. [Nov 1,2015](data/nov_towns.csv) and [Jun 7,2015](data/jun_towns.csv) \n",
    "\n",
    "## Election Results Maps\n",
    "I created maps for the last two general election results of Turkey for four parties with different legends. If you click on any of the cities in those maps (below), vote shares of the four parties are shown for that particular election.\n",
    "\n",
    "The colors in these maps represent the party vote share in those cities. Since one of the more interesting questions regarding the Nov 1, 2015 election is in which cities AKP increased its votes, I also created its Jun 7, 2015 election density map to facilitate us seeing the change.\n",
    "\n",
    "## Vote Share Scatter Plots of Each Party per City for the Last Two Elections\n",
    "For all of the parties, their vote shares in the last two elections is compared in a scatter plot where the dots represent the cities and their colors represent the geographic region they belong to. One interesting pattern for example is that unlike other parties, CHP increased its vote share in some cities and lost some in others. On the other hand we see that AKP increased its vote share in every city, whereas MHP and HDP lost their shares almost in every single city."
   ]
  },
  {
   "cell_type": "code",
   "execution_count": 1,
   "metadata": {
    "collapsed": false
   },
   "outputs": [],
   "source": [
    "import json\n",
    "import pandas as pd\n",
    "from unidecode import unidecode\n",
    "import folium\n",
    "from IPython.display import HTML\n",
    "%matplotlib inline\n",
    "import matplotlib.pyplot as plt\n",
    "plt.style.use('ggplot')"
   ]
  },
  {
   "cell_type": "code",
   "execution_count": 2,
   "metadata": {
    "collapsed": true
   },
   "outputs": [],
   "source": [
    "#read the data\n",
    "nov = pd.read_csv('data/nov.csv')\n",
    "jun = pd.read_csv('data/jun.csv')"
   ]
  },
  {
   "cell_type": "code",
   "execution_count": 3,
   "metadata": {
    "collapsed": true
   },
   "outputs": [],
   "source": [
    "def create_map(is_nov,threshold_scale,fill_color,party):\n",
    "    mapname = party+'_share_nov' if is_nov else party+'_share_jun'\n",
    "    electiondate = 'Nov 1, 2015' if is_nov else 'Jun 7, 2015'\n",
    "    tr_geo = 'tr_nov.geojson' if is_nov else 'tr_jun.geojson'\n",
    "    df = nov if is_nov else jun\n",
    "    tr = folium.Map(location=[39.5, 35], zoom_start=6, tiles='Mapbox Bright')\n",
    "    tr.geo_json(geo_path=tr_geo, data=df, data_out=mapname+'.json',\n",
    "                columns=['city', party],\n",
    "                threshold_scale=threshold_scale,\n",
    "                key_on='feature.properties.name',\n",
    "                fill_color=fill_color, fill_opacity=0.7, line_opacity=0.2,\n",
    "                legend_name=party+' Vote Shares (%), '+electiondate+' Turkish General Elections')\n",
    "    tr.create_map(path=mapname+'.html')\n",
    "    return HTML('<iframe src='+mapname+'.html style=\"width: 100%; height: 500px; border: none\"></iframe>')"
   ]
  },
  {
   "cell_type": "code",
   "execution_count": 4,
   "metadata": {
    "collapsed": false
   },
   "outputs": [
    {
     "data": {
      "text/html": [
       "<iframe src=AKP_share_nov.html style=\"width: 100%; height: 500px; border: none\"></iframe>"
      ],
      "text/plain": [
       "<IPython.core.display.HTML object>"
      ]
     },
     "execution_count": 4,
     "metadata": {},
     "output_type": "execute_result"
    }
   ],
   "source": [
    "# AKP Vote Shares (%), Nov 1, 2015 Turkish General Elections\n",
    "create_map(True,[15,25,35,45,55,65],'YlOrRd','AKP')"
   ]
  },
  {
   "cell_type": "code",
   "execution_count": 5,
   "metadata": {
    "collapsed": false,
    "scrolled": true
   },
   "outputs": [
    {
     "data": {
      "text/html": [
       "<iframe src=AKP_share_jun.html style=\"width: 100%; height: 500px; border: none\"></iframe>"
      ],
      "text/plain": [
       "<IPython.core.display.HTML object>"
      ]
     },
     "execution_count": 5,
     "metadata": {},
     "output_type": "execute_result"
    }
   ],
   "source": [
    "# Vote Shares (%), Jun 7, 2015 Turkish General Elections\n",
    "create_map(False,[15,25,35,45,55,65],'YlOrRd','AKP')"
   ]
  },
  {
   "cell_type": "code",
   "execution_count": 6,
   "metadata": {
    "collapsed": false
   },
   "outputs": [
    {
     "data": {
      "text/html": [
       "<iframe src=CHP_share_nov.html style=\"width: 100%; height: 500px; border: none\"></iframe>"
      ],
      "text/plain": [
       "<IPython.core.display.HTML object>"
      ]
     },
     "execution_count": 6,
     "metadata": {},
     "output_type": "execute_result"
    }
   ],
   "source": [
    "# CHP Vote Shares (%), Nov 1, 2015 Turkish General Elections\n",
    "create_map(True,[10,15,20,25,30,35],'PuRd','CHP')"
   ]
  },
  {
   "cell_type": "code",
   "execution_count": 7,
   "metadata": {
    "collapsed": false
   },
   "outputs": [
    {
     "data": {
      "text/html": [
       "<iframe src=CHP_share_jun.html style=\"width: 100%; height: 500px; border: none\"></iframe>"
      ],
      "text/plain": [
       "<IPython.core.display.HTML object>"
      ]
     },
     "execution_count": 7,
     "metadata": {},
     "output_type": "execute_result"
    }
   ],
   "source": [
    "# CHP Vote Shares (%), Jun 7, 2015 Turkish General Elections\n",
    "create_map(False,[10,15,20,25,30,35],'PuRd','CHP')"
   ]
  },
  {
   "cell_type": "code",
   "execution_count": 8,
   "metadata": {
    "collapsed": false
   },
   "outputs": [
    {
     "data": {
      "text/html": [
       "<iframe src=MHP_share_nov.html style=\"width: 100%; height: 500px; border: none\"></iframe>"
      ],
      "text/plain": [
       "<IPython.core.display.HTML object>"
      ]
     },
     "execution_count": 8,
     "metadata": {},
     "output_type": "execute_result"
    }
   ],
   "source": [
    "# MHP Vote Shares (%), Nov 1, 2015 Turkish General Elections\n",
    "create_map(True,[5,10,15,20,25,30],'GnBu','MHP')"
   ]
  },
  {
   "cell_type": "code",
   "execution_count": 9,
   "metadata": {
    "collapsed": false
   },
   "outputs": [
    {
     "data": {
      "text/html": [
       "<iframe src=MHP_share_jun.html style=\"width: 100%; height: 500px; border: none\"></iframe>"
      ],
      "text/plain": [
       "<IPython.core.display.HTML object>"
      ]
     },
     "execution_count": 9,
     "metadata": {},
     "output_type": "execute_result"
    }
   ],
   "source": [
    "# MHP Vote Shares (%), Jun 7, 2015 Turkish General Elections\n",
    "create_map(False,[5,10,15,20,25,30],'GnBu','MHP')"
   ]
  },
  {
   "cell_type": "code",
   "execution_count": 10,
   "metadata": {
    "collapsed": false
   },
   "outputs": [
    {
     "data": {
      "text/html": [
       "<iframe src=HDP_share_nov.html style=\"width: 100%; height: 500px; border: none\"></iframe>"
      ],
      "text/plain": [
       "<IPython.core.display.HTML object>"
      ]
     },
     "execution_count": 10,
     "metadata": {},
     "output_type": "execute_result"
    }
   ],
   "source": [
    "# HDP Vote Shares (%), Nov 1, 2015 Turkish General Elections\n",
    "create_map(True,[5,10,15,20,25,30],'BuPu','HDP')"
   ]
  },
  {
   "cell_type": "code",
   "execution_count": 11,
   "metadata": {
    "collapsed": false
   },
   "outputs": [
    {
     "data": {
      "text/html": [
       "<iframe src=HDP_share_jun.html style=\"width: 100%; height: 500px; border: none\"></iframe>"
      ],
      "text/plain": [
       "<IPython.core.display.HTML object>"
      ]
     },
     "execution_count": 11,
     "metadata": {},
     "output_type": "execute_result"
    }
   ],
   "source": [
    "# HDP Vote Shares (%), Jun 7, 2015 Turkish General Elections\n",
    "create_map(False,[5,10,15,20,25,30],'BuPu','HDP')"
   ]
  },
  {
   "cell_type": "code",
   "execution_count": 12,
   "metadata": {
    "collapsed": false
   },
   "outputs": [],
   "source": [
    "#Scatter plot\n",
    "import plotly.plotly as py\n",
    "from plotly.graph_objs import *\n",
    "from palettable.colorbrewer.qualitative import Dark2_7 as colmap\n",
    "\n",
    "il = pd.read_csv('data/city_meta.csv',usecols=['il','bolge'])\n",
    "colors = dict(zip(il['bolge'].unique().tolist(),colmap.hex_colors))\n",
    "parties = ['AKP', 'CHP','MHP','HDP']\n",
    "jun['bolge'] = il['bolge']\n",
    "nov['bolge'] = il['bolge']\n",
    "\n",
    "for p in parties:\n",
    "    lim = max(nov[p].max(),jun[p].max())\n",
    "    #each region is a trace, otherwise they do not show up in the legend\n",
    "    traces = [Scatter(x=jun[jun.bolge==b][p],y=nov[nov.bolge==b][p],\n",
    "                      mode='markers', text=il[il.bolge==b]['il'], name=b,\n",
    "                      marker=Marker(color=v)) for b,v in colors.items()]\n",
    "    traces.append(Scatter(x=[0,lim],y=[0,lim],mode='lines', name='y=x',\n",
    "                        line=Line(color='grey',dash='dash')))\n",
    "    data = Data(traces)\n",
    "    layout = Layout(title=p+' Nov 1, 2015 vs Jun 7, 2015 Vote Shares',\n",
    "                    autosize=True,\n",
    "                    xaxis=XAxis(title=p+\" Jun 7, 2015 Vote Shares\",zeroline=False),\n",
    "                    yaxis=YAxis(title=p+\" Nov 1, 2015 Vote Shares\",zeroline=False),\n",
    "                    legend=Legend(x=.01,y=1))\n",
    "    fig = Figure(data=data,layout=layout)\n",
    "    url = py.plot(fig,filename= p+' Nov 1, 2015 vs Jun 7, 2015 Vote Shares')"
   ]
  },
  {
   "cell_type": "code",
   "execution_count": 13,
   "metadata": {
    "collapsed": false
   },
   "outputs": [
    {
     "data": {
      "text/html": [
       "<div><a href=\"https://plot.ly/~toz/828/\" target=\"_blank\" title=\"AKP Nov 1, 2015 vs Jun 7, 2015 Vote Shares\" style=\"display: block; text-align: center;\"><img src=\"https://plot.ly/~toz/828.png\" alt=\"AKP Nov 1, 2015 vs Jun 7, 2015 Vote Shares\" style=\"max-width: 100%;width: 600px;\"  width=\"600\" onerror=\"this.onerror=null;this.src='https://plot.ly/404.png';\" /></a><script data-plotly=\"toz:828\"  src=\"https://plot.ly/embed.js\" async></script></div>"
      ],
      "text/plain": [
       "<IPython.core.display.HTML object>"
      ]
     },
     "execution_count": 13,
     "metadata": {},
     "output_type": "execute_result"
    }
   ],
   "source": [
    "HTML(\"\"\"<div><a href=\"https://plot.ly/~toz/828/\" target=\"_blank\" title=\"AKP Nov 1, 2015 vs Jun 7, 2015 Vote Shares\" style=\"display: block; text-align: center;\"><img src=\"https://plot.ly/~toz/828.png\" alt=\"AKP Nov 1, 2015 vs Jun 7, 2015 Vote Shares\" style=\"max-width: 100%;width: 600px;\"  width=\"600\" onerror=\"this.onerror=null;this.src='https://plot.ly/404.png';\" /></a><script data-plotly=\"toz:828\"  src=\"https://plot.ly/embed.js\" async></script></div>\"\"\")"
   ]
  },
  {
   "cell_type": "code",
   "execution_count": 14,
   "metadata": {
    "collapsed": false
   },
   "outputs": [
    {
     "data": {
      "text/html": [
       "<div><a href=\"https://plot.ly/~toz/830/\" target=\"_blank\" title=\"CHP Nov 1, 2015 vs Jun 7, 2015 Vote Shares\" style=\"display: block; text-align: center;\"><img src=\"https://plot.ly/~toz/830.png\" alt=\"CHP Nov 1, 2015 vs Jun 7, 2015 Vote Shares\" style=\"max-width: 100%;width: 600px;\"  width=\"600\" onerror=\"this.onerror=null;this.src='https://plot.ly/404.png';\" /></a><script data-plotly=\"toz:830\"  src=\"https://plot.ly/embed.js\" async></script></div>"
      ],
      "text/plain": [
       "<IPython.core.display.HTML object>"
      ]
     },
     "execution_count": 14,
     "metadata": {},
     "output_type": "execute_result"
    }
   ],
   "source": [
    "HTML(\"\"\"<div><a href=\"https://plot.ly/~toz/830/\" target=\"_blank\" title=\"CHP Nov 1, 2015 vs Jun 7, 2015 Vote Shares\" style=\"display: block; text-align: center;\"><img src=\"https://plot.ly/~toz/830.png\" alt=\"CHP Nov 1, 2015 vs Jun 7, 2015 Vote Shares\" style=\"max-width: 100%;width: 600px;\"  width=\"600\" onerror=\"this.onerror=null;this.src='https://plot.ly/404.png';\" /></a><script data-plotly=\"toz:830\"  src=\"https://plot.ly/embed.js\" async></script></div>\"\"\")"
   ]
  },
  {
   "cell_type": "code",
   "execution_count": 15,
   "metadata": {
    "collapsed": false
   },
   "outputs": [
    {
     "data": {
      "text/html": [
       "<div><a href=\"https://plot.ly/~toz/832/\" target=\"_blank\" title=\"MHP Nov 1, 2015 vs Jun 7, 2015 Vote Shares\" style=\"display: block; text-align: center;\"><img src=\"https://plot.ly/~toz/832.png\" alt=\"MHP Nov 1, 2015 vs Jun 7, 2015 Vote Shares\" style=\"max-width: 100%;width: 600px;\"  width=\"600\" onerror=\"this.onerror=null;this.src='https://plot.ly/404.png';\" /></a><script data-plotly=\"toz:832\"  src=\"https://plot.ly/embed.js\" async></script></div>"
      ],
      "text/plain": [
       "<IPython.core.display.HTML object>"
      ]
     },
     "execution_count": 15,
     "metadata": {},
     "output_type": "execute_result"
    }
   ],
   "source": [
    "HTML(\"\"\"<div><a href=\"https://plot.ly/~toz/832/\" target=\"_blank\" title=\"MHP Nov 1, 2015 vs Jun 7, 2015 Vote Shares\" style=\"display: block; text-align: center;\"><img src=\"https://plot.ly/~toz/832.png\" alt=\"MHP Nov 1, 2015 vs Jun 7, 2015 Vote Shares\" style=\"max-width: 100%;width: 600px;\"  width=\"600\" onerror=\"this.onerror=null;this.src='https://plot.ly/404.png';\" /></a><script data-plotly=\"toz:832\"  src=\"https://plot.ly/embed.js\" async></script></div>\"\"\")"
   ]
  },
  {
   "cell_type": "code",
   "execution_count": 16,
   "metadata": {
    "collapsed": false
   },
   "outputs": [
    {
     "data": {
      "text/html": [
       "<div><a href=\"https://plot.ly/~toz/834/\" target=\"_blank\" title=\"HDP Nov 1, 2015 vs Jun 7, 2015 Vote Shares\" style=\"display: block; text-align: center;\"><img src=\"https://plot.ly/~toz/834.png\" alt=\"HDP Nov 1, 2015 vs Jun 7, 2015 Vote Shares\" style=\"max-width: 100%;width: 600px;\"  width=\"600\" onerror=\"this.onerror=null;this.src='https://plot.ly/404.png';\" /></a><script data-plotly=\"toz:834\"  src=\"https://plot.ly/embed.js\" async></script></div>"
      ],
      "text/plain": [
       "<IPython.core.display.HTML object>"
      ]
     },
     "execution_count": 16,
     "metadata": {},
     "output_type": "execute_result"
    }
   ],
   "source": [
    "HTML(\"\"\"<div><a href=\"https://plot.ly/~toz/834/\" target=\"_blank\" title=\"HDP Nov 1, 2015 vs Jun 7, 2015 Vote Shares\" style=\"display: block; text-align: center;\"><img src=\"https://plot.ly/~toz/834.png\" alt=\"HDP Nov 1, 2015 vs Jun 7, 2015 Vote Shares\" style=\"max-width: 100%;width: 600px;\"  width=\"600\" onerror=\"this.onerror=null;this.src='https://plot.ly/404.png';\" /></a><script data-plotly=\"toz:834\"  src=\"https://plot.ly/embed.js\" async></script></div>\"\"\")"
   ]
  },
  {
   "cell_type": "code",
   "execution_count": 17,
   "metadata": {
    "collapsed": false
   },
   "outputs": [
    {
     "data": {
      "text/html": [
       "<iframe width=\"50%\" height=\"450\" src=\"//jsfiddle.net/v5rw0y75/39/embedded/result\" allowfullscreen=\"allowfullscreen\" frameborder=\"0\"></iframe>"
      ],
      "text/plain": [
       "<IPython.core.display.HTML object>"
      ]
     },
     "execution_count": 17,
     "metadata": {},
     "output_type": "execute_result"
    }
   ],
   "source": [
    "HTML(\"\"\"<iframe width=\"50%\" height=\"450\" src=\"//jsfiddle.net/v5rw0y75/39/embedded/result\" allowfullscreen=\"allowfullscreen\" frameborder=\"0\"></iframe>\"\"\")"
   ]
  },
  {
   "cell_type": "code",
   "execution_count": 18,
   "metadata": {
    "collapsed": false
   },
   "outputs": [
    {
     "name": "stdout",
     "output_type": "stream",
     "text": [
      "Total increase in the registered voters: 1555664.0\n",
      "Total increase in the valid votes: 1769286.0\n"
     ]
    }
   ],
   "source": [
    "print('Total increase in the registered voters:',nov.registered.sum() - jun.registered.sum())\n",
    "print('Total increase in the valid votes:',nov.valid.sum() - jun.valid.sum())"
   ]
  },
  {
   "cell_type": "markdown",
   "metadata": {},
   "source": [
    "Some claimed that it is not normal to have such high number of registered voters (or valid votes) increase in five months. It smells fraud to many. However, I couldn't find any support to these claims in the city level data: there is no significant positive or negative correlation between the changes in the valid votes and changes in any of the party shares. [See the output of the following cell]"
   ]
  },
  {
   "cell_type": "code",
   "execution_count": 19,
   "metadata": {
    "collapsed": false
   },
   "outputs": [
    {
     "data": {
      "text/html": [
       "<div style=\"max-height:1000px;max-width:1500px;overflow:auto;\">\n",
       "<table border=\"1\" class=\"dataframe\">\n",
       "  <thead>\n",
       "    <tr style=\"text-align: right;\">\n",
       "      <th></th>\n",
       "      <th>AKP</th>\n",
       "      <th>CHP</th>\n",
       "      <th>MHP</th>\n",
       "      <th>HDP</th>\n",
       "      <th>others</th>\n",
       "      <th>registered</th>\n",
       "    </tr>\n",
       "  </thead>\n",
       "  <tbody>\n",
       "    <tr>\n",
       "      <th>AKP</th>\n",
       "      <td>1.000000</td>\n",
       "      <td>-0.250031</td>\n",
       "      <td>-0.345152</td>\n",
       "      <td>-0.348651</td>\n",
       "      <td>-0.170495</td>\n",
       "      <td>-0.120211</td>\n",
       "    </tr>\n",
       "    <tr>\n",
       "      <th>CHP</th>\n",
       "      <td>-0.250031</td>\n",
       "      <td>1.000000</td>\n",
       "      <td>0.004348</td>\n",
       "      <td>-0.253937</td>\n",
       "      <td>-0.030682</td>\n",
       "      <td>0.002432</td>\n",
       "    </tr>\n",
       "    <tr>\n",
       "      <th>MHP</th>\n",
       "      <td>-0.345152</td>\n",
       "      <td>0.004348</td>\n",
       "      <td>1.000000</td>\n",
       "      <td>-0.465819</td>\n",
       "      <td>-0.334473</td>\n",
       "      <td>0.215103</td>\n",
       "    </tr>\n",
       "    <tr>\n",
       "      <th>HDP</th>\n",
       "      <td>-0.348651</td>\n",
       "      <td>-0.253937</td>\n",
       "      <td>-0.465819</td>\n",
       "      <td>1.000000</td>\n",
       "      <td>0.061552</td>\n",
       "      <td>0.049348</td>\n",
       "    </tr>\n",
       "    <tr>\n",
       "      <th>others</th>\n",
       "      <td>-0.170495</td>\n",
       "      <td>-0.030682</td>\n",
       "      <td>-0.334473</td>\n",
       "      <td>0.061552</td>\n",
       "      <td>1.000000</td>\n",
       "      <td>-0.156149</td>\n",
       "    </tr>\n",
       "    <tr>\n",
       "      <th>registered</th>\n",
       "      <td>-0.120211</td>\n",
       "      <td>0.002432</td>\n",
       "      <td>0.215103</td>\n",
       "      <td>0.049348</td>\n",
       "      <td>-0.156149</td>\n",
       "      <td>1.000000</td>\n",
       "    </tr>\n",
       "  </tbody>\n",
       "</table>\n",
       "</div>"
      ],
      "text/plain": [
       "                 AKP       CHP       MHP       HDP    others  registered\n",
       "AKP         1.000000 -0.250031 -0.345152 -0.348651 -0.170495   -0.120211\n",
       "CHP        -0.250031  1.000000  0.004348 -0.253937 -0.030682    0.002432\n",
       "MHP        -0.345152  0.004348  1.000000 -0.465819 -0.334473    0.215103\n",
       "HDP        -0.348651 -0.253937 -0.465819  1.000000  0.061552    0.049348\n",
       "others     -0.170495 -0.030682 -0.334473  0.061552  1.000000   -0.156149\n",
       "registered -0.120211  0.002432  0.215103  0.049348 -0.156149    1.000000"
      ]
     },
     "execution_count": 19,
     "metadata": {},
     "output_type": "execute_result"
    }
   ],
   "source": [
    "#check the correlation of change in registered voters with the change in the party shares\n",
    "parties = ['AKP', 'CHP','MHP','HDP','others']\n",
    "change = nov[parties] - jun[parties]\n",
    "change['registered'] = (nov['registered'] - jun['registered'])/nov['registered']\n",
    "change.index = nov['city']\n",
    "change.corr() #change in registered voters vs change in party shares"
   ]
  }
 ],
 "metadata": {
  "kernelspec": {
   "display_name": "Python 3",
   "language": "python",
   "name": "python3"
  },
  "language_info": {
   "codemirror_mode": {
    "name": "ipython",
    "version": 3
   },
   "file_extension": ".py",
   "mimetype": "text/x-python",
   "name": "python",
   "nbconvert_exporter": "python",
   "pygments_lexer": "ipython3",
   "version": "3.4.2"
  }
 },
 "nbformat": 4,
 "nbformat_minor": 0
}
